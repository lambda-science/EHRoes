{
 "cells": [
  {
   "cell_type": "code",
   "execution_count": null,
   "metadata": {},
   "outputs": [],
   "source": [
    "from ocr import Rapport\n",
    "\n",
    "pdf_object = Rapport(open(\"histo_sample.pdf\", \"rb\"))\n",
    "pdf_object.pdf_to_text()\n",
    "pdf_object.detect_sections()\n",
    "pdf_object.extract_section_text()\n",
    "print(pdf_object.header_text)\n",
    "print(pdf_object.section_text)"
   ]
  },
  {
   "cell_type": "code",
   "execution_count": null,
   "metadata": {},
   "outputs": [],
   "source": [
    "import spacy\n",
    "\n",
    "nlp = spacy.load(\"fr_core_news_lg\")"
   ]
  },
  {
   "cell_type": "code",
   "execution_count": null,
   "metadata": {},
   "outputs": [],
   "source": [
    "pdf_object.section_text.keys()"
   ]
  },
  {
   "cell_type": "code",
   "execution_count": null,
   "metadata": {},
   "outputs": [],
   "source": [
    "my_text = pdf_object.section_text[\"Hématéine-éosine et trichrome de Gomori\"]\n",
    "doc = nlp(my_text)\n",
    "doc"
   ]
  },
  {
   "cell_type": "code",
   "execution_count": null,
   "metadata": {},
   "outputs": [],
   "source": [
    "final_one_ngrams = []\n",
    "final_two_ngrams = []\n",
    "final_three_ngrams = []\n",
    "\n",
    "for sent in doc.sents:\n",
    "    temp_token_list = []\n",
    "    for token in sent:\n",
    "        if not token.is_stop and not token.is_punct and token.is_alpha:\n",
    "            final_one_ngrams.append(token.text)\n",
    "            temp_token_list.append(token.text)\n",
    "    if len(temp_token_list) > 1:\n",
    "        for i in range(len(temp_token_list) - 1):\n",
    "            final_two_ngrams.append(\n",
    "                \" \".join([temp_token_list[i], temp_token_list[i + 1]])\n",
    "            )\n",
    "    if len(temp_token_list) > 2:\n",
    "        for i in range(len(temp_token_list) - 2):\n",
    "            final_three_ngrams.append(\n",
    "                \" \".join(\n",
    "                    [temp_token_list[i], temp_token_list[i + 1], temp_token_list[i + 2]]\n",
    "                )\n",
    "            )\n",
    "full_ngrams = final_one_ngrams + final_two_ngrams + final_three_ngrams"
   ]
  },
  {
   "cell_type": "code",
   "execution_count": null,
   "metadata": {},
   "outputs": [],
   "source": [
    "import json\n",
    "\n",
    "json_onto = json.load(open(\"../../data/ontology/ontology.json\"))"
   ]
  },
  {
   "cell_type": "code",
   "execution_count": null,
   "metadata": {},
   "outputs": [],
   "source": [
    "ontology_terms = []\n",
    "for i in json_onto:\n",
    "    ontology_terms.append(i[\"text\"])"
   ]
  },
  {
   "cell_type": "code",
   "execution_count": null,
   "metadata": {},
   "outputs": [],
   "source": [
    "from thefuzz import fuzz\n",
    "\n",
    "for i in full_ngrams:\n",
    "    for j in ontology_terms:\n",
    "        score = fuzz.ratio(i, j)\n",
    "        if score >= 80:\n",
    "            print(score, i, j)"
   ]
  }
 ],
 "metadata": {
  "interpreter": {
   "hash": "f79e6e128c38df7470d02b4edb767138d7d5597399edd1a5d115060d304f21b0"
  },
  "kernelspec": {
   "display_name": "Python 3.9.7 64-bit ('myoxia': conda)",
   "name": "python3"
  },
  "language_info": {
   "codemirror_mode": {
    "name": "ipython",
    "version": 3
   },
   "file_extension": ".py",
   "mimetype": "text/x-python",
   "name": "python",
   "nbconvert_exporter": "python",
   "pygments_lexer": "ipython3",
   "version": "3.9.7"
  },
  "orig_nbformat": 4
 },
 "nbformat": 4,
 "nbformat_minor": 2
}
