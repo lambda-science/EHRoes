{
 "cells": [
  {
   "cell_type": "code",
   "execution_count": 4,
   "metadata": {},
   "outputs": [],
   "source": [
    "import json\n",
    "with open(\"../config/ontology.json\", \"r\") as fp:\n",
    "    onto = json.load(fp)\n",
    "\n",
    "for i in onto:\n",
    "    i[\"data\"][\"description\"] = i[\"data\"].get(\"description\", \"\")\n",
    "    i[\"data\"][\"genes\"] = i[\"data\"].get(\"genes\", \"\")\n",
    "    i[\"data\"][\"phenotype\"] = i[\"data\"].get(\"phenotype\", \"\")\n",
    "    i[\"data\"][\"phenotype_datamined\"] = i[\"data\"].get(\"phenotype_datamined\", \"\")\n",
    "    i[\"data\"][\"gene_datamined\"] = i[\"data\"].get(\"gene_datamined\", \"\")\n",
    "    i[\"data\"][\"synonymes\"] = i[\"data\"].get(\"synonymes\", \"\")\n",
    "\n",
    "with open(\"../config/ontology.json\", \"w\") as fp:\n",
    "    onto = json.dump(onto, fp, indent=4)"
   ]
  }
 ],
 "metadata": {
  "interpreter": {
   "hash": "f79e6e128c38df7470d02b4edb767138d7d5597399edd1a5d115060d304f21b0"
  },
  "kernelspec": {
   "display_name": "Python 3.9.7 64-bit ('myoxia': conda)",
   "name": "python3"
  },
  "language_info": {
   "codemirror_mode": {
    "name": "ipython",
    "version": 3
   },
   "file_extension": ".py",
   "mimetype": "text/x-python",
   "name": "python",
   "nbconvert_exporter": "python",
   "pygments_lexer": "ipython3",
   "version": "3.9.7"
  },
  "orig_nbformat": 4
 },
 "nbformat": 4,
 "nbformat_minor": 2
}
