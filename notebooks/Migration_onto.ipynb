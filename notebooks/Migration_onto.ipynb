{
 "cells": [
  {
   "cell_type": "code",
   "execution_count": null,
   "metadata": {},
   "outputs": [],
   "source": [
    "import json\n",
    "with open(\"../config/ontology.json\", \"r\") as fp:\n",
    "    onto = json.load(fp)\n",
    "\n",
    "for i in onto:\n",
    "    i[\"data\"][\"description\"] = i[\"data\"].get(\"description\", \"\")\n",
    "    i[\"data\"][\"genes\"] = i[\"data\"].get(\"genes\", \"\")\n",
    "    i[\"data\"][\"phenotype\"] = i[\"data\"].get(\"phenotype\", \"\")\n",
    "    i[\"data\"][\"phenotype_datamined\"] = i[\"data\"].get(\"phenotype_datamined\", \"\")\n",
    "    i[\"data\"][\"gene_datamined\"] = i[\"data\"].get(\"gene_datamined\", \"\")\n",
    "    i[\"data\"][\"synonymes\"] = i[\"data\"].get(\"synonymes\", \"\")\n",
    "    i[\"data\"][\"french_translation\"] = i[\"data\"].get(\"french_translation\", \"\")\n",
    "    i[\"data\"][\"correlates_with\"] = i[\"data\"].get(\"correlates_with\", \"\")\n",
    "\n",
    "with open(\"../config/ontology.json\", \"w\") as fp:\n",
    "    onto = json.dump(onto, fp, indent=4)"
   ]
  },
  {
   "cell_type": "code",
   "execution_count": null,
   "metadata": {},
   "outputs": [],
   "source": [
    "import json\n",
    "with open(\"../config/ontology.json\", \"r\") as fp:\n",
    "    onto = json.load(fp)\n",
    "ID = 0\n",
    "for term in onto:\n",
    "    ID += 1\n",
    "    old_ID = term[\"id\"]\n",
    "    new_ID = \"MHO:\" + str(ID).rjust(6, \"0\")\n",
    "    term[\"id\"] = new_ID\n",
    "    for term2 in onto:\n",
    "        if term2[\"parent\"] == old_ID:\n",
    "            term2[\"parent\"] = new_ID\n",
    "            \n",
    "with open(\"../config/ontology.json\", \"w\") as fp:\n",
    "    onto = json.dump(onto, fp, indent=4)"
   ]
  },
  {
   "cell_type": "code",
   "execution_count": null,
   "metadata": {},
   "outputs": [],
   "source": [
    "import sys\n",
    "sys.path.append('..')\n",
    "from app import create_app, db\n",
    "from app.models import ReportHisto\n",
    "import json\n",
    "from sqlalchemy.orm.attributes import flag_modified\n",
    "\n",
    "# Create instance of app\n",
    "app = create_app()\n",
    "with app.app_context():\n",
    "    my_records = ReportHisto.query.all()\n",
    "    for i in my_records:\n",
    "        ID = 0\n",
    "        for term in i.ontology_tree:\n",
    "            ID += 1\n",
    "            old_ID = term[\"id\"]\n",
    "            new_ID = \"MHO:\" + str(ID).rjust(6, \"0\")\n",
    "            term[\"id\"] = new_ID\n",
    "            for term2 in i.ontology_tree:\n",
    "                if term2[\"parent\"] == old_ID:\n",
    "                    term2[\"parent\"] = new_ID\n",
    "        flag_modified(i, \"ontology_tree\")\n",
    "    db.session.commit()"
   ]
  }
 ],
 "metadata": {
  "interpreter": {
   "hash": "ffe637758166fb04d0f169bbcbed0a16ee9735d998f6887e927b539e578611d3"
  },
  "kernelspec": {
   "display_name": "Python 3.8.10 64-bit ('myoxia-KmmUxKPN': pipenv)",
   "name": "python3"
  },
  "language_info": {
   "codemirror_mode": {
    "name": "ipython",
    "version": 3
   },
   "file_extension": ".py",
   "mimetype": "text/x-python",
   "name": "python",
   "nbconvert_exporter": "python",
   "pygments_lexer": "ipython3",
   "version": "3.8.10"
  },
  "orig_nbformat": 4
 },
 "nbformat": 4,
 "nbformat_minor": 2
}
