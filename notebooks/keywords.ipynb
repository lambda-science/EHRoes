{
 "metadata": {
  "language_info": {
   "codemirror_mode": {
    "name": "ipython",
    "version": 3
   },
   "file_extension": ".py",
   "mimetype": "text/x-python",
   "name": "python",
   "nbconvert_exporter": "python",
   "pygments_lexer": "ipython3",
   "version": "3.8.5-final"
  },
  "orig_nbformat": 2,
  "kernelspec": {
   "name": "python3",
   "display_name": "Python 3",
   "language": "python"
  }
 },
 "nbformat": 4,
 "nbformat_minor": 2,
 "cells": [
  {
   "cell_type": "code",
   "execution_count": null,
   "metadata": {},
   "outputs": [],
   "source": [
    "import pandas as pd\n",
    "import json"
   ]
  },
  {
   "cell_type": "code",
   "execution_count": null,
   "metadata": {},
   "outputs": [],
   "source": [
    "df = pd.read_csv(\"../config/report_form_config.tsv\", sep=\"\\t\")"
   ]
  },
  {
   "cell_type": "code",
   "execution_count": null,
   "metadata": {},
   "outputs": [],
   "source": [
    "list_section = []\n",
    "list_feature_cat = []\n",
    "list_feature_name = []\n",
    "for index, row in df.iterrows():\n",
    "    for feature in row[2:]:\n",
    "        if type(feature) == str:\n",
    "            list_section.append(row[0])\n",
    "            list_feature_cat.append(row[1])\n",
    "            list_feature_name.append(feature)"
   ]
  },
  {
   "cell_type": "code",
   "execution_count": null,
   "metadata": {},
   "outputs": [],
   "source": [
    "def find_id_parent(json_list, name):\n",
    "    for i in json_list:\n",
    "        if name in i[\"text\"]:\n",
    "            return i[\"id\"]\n",
    "    return 0\n"
   ]
  },
  {
   "cell_type": "code",
   "execution_count": null,
   "metadata": {},
   "outputs": [],
   "source": [
    "id = 0\n",
    "json_list = []\n",
    "for i in set(list_section):\n",
    "    id+=1\n",
    "    json_list.append({\"id\":id, \"parent\":\"#\", \"text\":i, \"data\":{\"synonymes\":\"\",\"genes\":\"\",\"description\":\"\"}})\n",
    "\n",
    "for index, row in df.iterrows():\n",
    "    id+=1\n",
    "    json_list.append({\"id\":id, \"parent\":find_id_parent(json_list, row[0]), \"text\":row[1], \"data\":{\"synonymes\":\"\",\"genes\":\"\",\"description\":\"\"}})\n",
    "\n",
    "for index, row in df.iterrows():\n",
    "    for feature in row[2:]:\n",
    "        if type(feature) == str:\n",
    "            id+=1\n",
    "            json_list.append({\"id\":id, \"parent\":find_id_parent(json_list, row[1]), \"text\":feature, \"data\":{\"synonymes\":\"\",\"genes\":\"\",\"description\":\"\"}})"
   ]
  },
  {
   "cell_type": "code",
   "execution_count": null,
   "metadata": {},
   "outputs": [],
   "source": [
    "jsonString = json.dumps(json_list,  indent=4, sort_keys=True)\n",
    "jsonFile = open(\"../config/ontology_template.json\", \"w\")\n",
    "jsonFile.write(jsonString)\n",
    "jsonFile.close()"
   ]
  },
  {
   "cell_type": "code",
   "execution_count": null,
   "metadata": {},
   "outputs": [],
   "source": []
  }
 ]
}