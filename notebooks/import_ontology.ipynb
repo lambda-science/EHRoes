{
 "cells": [
  {
   "cell_type": "code",
   "execution_count": null,
   "metadata": {},
   "outputs": [],
   "source": [
    "from pronto import Ontology\n",
    "go = Ontology(\"go.obo\")\n",
    "go"
   ]
  },
  {
   "cell_type": "code",
   "execution_count": null,
   "metadata": {},
   "outputs": [],
   "source": [
    "with open(\"ms.json\", \"wb\") as f:\n",
    "    go.dump(f, format=\"json\")"
   ]
  },
  {
   "cell_type": "code",
   "execution_count": null,
   "metadata": {},
   "outputs": [],
   "source": [
    "import json\n",
    "with open(\"ms.json\", \"r\") as f:\n",
    "    go = json.load(f)"
   ]
  },
  {
   "cell_type": "code",
   "execution_count": null,
   "metadata": {},
   "outputs": [],
   "source": [
    "go[\"graphs\"][0].keys()"
   ]
  },
  {
   "cell_type": "code",
   "execution_count": null,
   "metadata": {},
   "outputs": [],
   "source": [
    "go[\"graphs\"][0][\"nodes\"][0]"
   ]
  },
  {
   "cell_type": "code",
   "execution_count": null,
   "metadata": {},
   "outputs": [],
   "source": [
    "edge_dict: dict = {}\n",
    "for relationship in go[\"graphs\"][0][\"edges\"]:\n",
    "    parent_list = edge_dict.get(relationship[\"sub\"].split(\"/\")[-1], [])\n",
    "    parent_list.append((relationship[\"obj\"].split(\"/\")[-1], relationship[\"pred\"]))\n",
    "    edge_dict[relationship[\"sub\"].split(\"/\")[-1]] = parent_list"
   ]
  },
  {
   "cell_type": "code",
   "execution_count": null,
   "metadata": {},
   "outputs": [],
   "source": [
    "edge_dict"
   ]
  },
  {
   "cell_type": "code",
   "execution_count": null,
   "metadata": {},
   "outputs": [],
   "source": [
    "for go_term in go[\"graphs\"][0][\"nodes\"]:\n",
    "    if go_term[\"type\"] != \"CLASS\":\n",
    "        print(go_term)"
   ]
  },
  {
   "cell_type": "code",
   "execution_count": null,
   "metadata": {},
   "outputs": [],
   "source": [
    "names: list[str] = []\n",
    "id: list[str] = []\n",
    "desc: list[str] = []\n",
    "synonymes: list[list[str]] = []\n",
    "\n",
    "for go_term in go[\"graphs\"][0][\"nodes\"]:\n",
    "    if go_term[\"type\"] == \"CLASS\":\n",
    "        id.append(go_term[\"id\"].split(\"/\")[-1])\n",
    "        names.append(go_term[\"lbl\"])\n",
    "        desc.append(go_term[\"meta\"][\"definition\"][\"val\"])\n",
    "        synonymes.append([syn[\"val\"] for syn in go_term[\"meta\"][\"synonyms\"]])"
   ]
  },
  {
   "cell_type": "code",
   "execution_count": null,
   "metadata": {},
   "outputs": [],
   "source": []
  },
  {
   "cell_type": "code",
   "execution_count": null,
   "metadata": {},
   "outputs": [],
   "source": [
    "import jsonschema\n",
    "from jsonschema import validate\n",
    "\n",
    "impatient_json: list[dict] = []\n",
    "impatient_json_schema = {\n",
    "    \"type\": \"object\",\n",
    "    \"properties\": {\n",
    "        \"id\": {\"type\": \"string\"},\n",
    "        \"text\": {\"type\": \"string\"},\n",
    "        \"icon\": {\"type\": \"boolean\"},\n",
    "        \"data\": {\n",
    "            \"type\": \"object\",\n",
    "            \"properties\": {\n",
    "                \"description\": {\"type\": \"string\"},\n",
    "                \"synonymes\": {\"type\": \"string\"},\n",
    "                \"phenotype_datamined\": {\"type\": \"string\"},\n",
    "                \"gene_datamined\": {\"type\": \"string\"},\n",
    "                \"alternative_language\": {\"type\": \"string\"},\n",
    "                \"correlates_with\": {\"type\": \"string\"},\n",
    "                \"image_annotation\": {\"type\": \"boolean\"},\n",
    "                \"hex_color\": {\"type\": \"string\", \"pattern\": \"^#[0-9a-fA-F]{6}$\"},\n",
    "                \"hpo_datamined\": {\"type\": \"string\"},\n",
    "            },\n",
    "            \"required\": [\n",
    "                \"description\",\n",
    "                \"synonymes\",\n",
    "                \"phenotype_datamined\",\n",
    "                \"gene_datamined\",\n",
    "                \"alternative_language\",\n",
    "                \"correlates_with\",\n",
    "                \"image_annotation\",\n",
    "                \"hex_color\",\n",
    "                \"hpo_datamined\",\n",
    "            ],\n",
    "        },\n",
    "        \"parent\": {\"type\": \"string\"},\n",
    "    },\n",
    "    \"required\": [\"id\", \"text\", \"icon\", \"data\", \"parent\"],\n",
    "}\n",
    "\n",
    "for index in range(len(id)):\n",
    "    impatient_json.append(\n",
    "        {\n",
    "            \"id\": id[index].replace(\"_\", \":\"),\n",
    "            \"text\": names[index],\n",
    "            \"icon\": True,\n",
    "            \"data\": {\n",
    "                \"description\": desc[index],\n",
    "                \"synonymes\": ','.join(synonymes[index]),\n",
    "                \"phenotype_datamined\": \"\",\n",
    "                \"gene_datamined\": \"\",\n",
    "                \"alternative_language\": names[index],\n",
    "                \"correlates_with\": \"\",\n",
    "                \"image_annotation\": True if index==0 else False,\n",
    "                \"hex_color\": \"#FFFFFF\",\n",
    "                \"hpo_datamined\": \"\",\n",
    "            },\n",
    "            \"parent\": \"#\",\n",
    "        }\n",
    "    )\n",
    "    \n",
    "for child, parent in edge_dict.items():\n",
    "    try:\n",
    "        index_term = id.index(child)\n",
    "    except ValueError:\n",
    "        print(f\"Term {child} not found in the list of terms\")\n",
    "        continue\n",
    "    # Only one parent so yeah we are loosing information.\n",
    "    impatient_json[index_term][\"parent\"] = parent[0][0].replace(\"_\", \":\")"
   ]
  },
  {
   "cell_type": "code",
   "execution_count": null,
   "metadata": {},
   "outputs": [],
   "source": [
    "json.dump(impatient_json, open(\"impatient.json\", \"w\"))"
   ]
  },
  {
   "cell_type": "code",
   "execution_count": null,
   "metadata": {},
   "outputs": [],
   "source": [
    "for idx, json_data in enumerate(impatient_json, start=1):\n",
    "    validate(instance=json_data, schema=impatient_json_schema)"
   ]
  }
 ],
 "metadata": {
  "kernelspec": {
   "display_name": ".venv",
   "language": "python",
   "name": "python3"
  },
  "language_info": {
   "codemirror_mode": {
    "name": "ipython",
    "version": 3
   },
   "file_extension": ".py",
   "mimetype": "text/x-python",
   "name": "python",
   "nbconvert_exporter": "python",
   "pygments_lexer": "ipython3",
   "version": "3.10.9"
  },
  "orig_nbformat": 4
 },
 "nbformat": 4,
 "nbformat_minor": 2
}
