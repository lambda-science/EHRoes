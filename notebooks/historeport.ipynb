{
 "cells": [
  {
   "cell_type": "code",
   "execution_count": 20,
   "metadata": {},
   "outputs": [],
   "source": [
    "import pandas as pd\n",
    "import sqlite3\n",
    "import json\n",
    "# Read sqlite query results into a pandas DataFrame\n",
    "con = sqlite3.connect(\"../app.db\")\n",
    "df = pd.read_sql_query(\"SELECT * from report_histo\", con)\n",
    "excel = pd.read_excel(\"Dossier_Patient_clean_myocapt_KC_v6.xlsx\")"
   ]
  },
  {
   "cell_type": "code",
   "execution_count": null,
   "metadata": {},
   "outputs": [],
   "source": [
    "my_tree = json.loads(df.loc[0,\"ontology_tree\"])\n",
    "def tree_to_dict(my_tree):\n",
    "    tree_as_dict = {}\n",
    "    for feature in my_tree:\n",
    "        tree_as_dict[feature[\"text\"]] = feature[\"data\"].get(\"presabs\")\n",
    "        print(feature)\n",
    "tree_to_dict(my_tree)"
   ]
  }
 ],
 "metadata": {
  "kernelspec": {
   "display_name": "Python 3.8.5  ('venv': venv)",
   "name": "pythonjvsc74a57bd0e00fc1dd39293072313ab5b24f9aea6afd07e259f0a0395cb4bf8fd60cfdc822"
  },
  "language_info": {
   "codemirror_mode": {
    "name": "ipython",
    "version": 3
   },
   "file_extension": ".py",
   "mimetype": "text/x-python",
   "name": "python",
   "nbconvert_exporter": "python",
   "pygments_lexer": "ipython3",
   "version": "3.8.5"
  },
  "metadata": {
   "interpreter": {
    "hash": "e00fc1dd39293072313ab5b24f9aea6afd07e259f0a0395cb4bf8fd60cfdc822"
   }
  },
  "orig_nbformat": 2
 },
 "nbformat": 4,
 "nbformat_minor": 2
}