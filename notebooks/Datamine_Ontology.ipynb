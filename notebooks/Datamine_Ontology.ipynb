{
 "cells": [
  {
   "cell_type": "code",
   "execution_count": null,
   "metadata": {},
   "outputs": [],
   "source": [
    "import json\n",
    "import sys \n",
    "sys.path.append('..')\n",
    "import sqlite3\n",
    "import pandas as pd\n",
    "import numpy as np\n",
    "\n",
    "def table_to_df(df):\n",
    "    # Transformation de la table SQLite en dataframe en parsant l'arbre JSON\n",
    "    # Return un dictionnaire et une liste de colonnes (les features histo)\n",
    "    tree_as_dict = {}\n",
    "    features_col = []\n",
    "    for index, row in df.iterrows():\n",
    "        tree_as_dict.setdefault(\"id\", []).append(row[0])\n",
    "        tree_as_dict.setdefault(\"patient_id\", []).append(row[1])\n",
    "        tree_as_dict.setdefault(\"expert_id\", []).append(row[2])\n",
    "        tree_as_dict.setdefault(\"biopsie_id\", []).append(row[3])\n",
    "        tree_as_dict.setdefault(\"muscle_prelev\", []).append(row[4])\n",
    "        tree_as_dict.setdefault(\"age_biopsie\", []).append(row[5])\n",
    "        tree_as_dict.setdefault(\"date_envoie\", []).append(row[6])\n",
    "        tree_as_dict.setdefault(\"gene_diag\", []).append(row[7])\n",
    "        tree_as_dict.setdefault(\"comment\", []).append(row[9])\n",
    "        tree_as_dict.setdefault(\"conclusion\", []).append(row[10])\n",
    "        tree_as_dict.setdefault(\"datetime\", []).append(row[11])\n",
    "\n",
    "        my_tree = json.loads(row[8])\n",
    "        for feature in my_tree:\n",
    "            tree_as_dict.setdefault(feature[\"text\"], []).append(\n",
    "                float(feature[\"data\"].get(\"presence\", -0.25))\n",
    "            )\n",
    "            if index == 0:\n",
    "                features_col.append(feature[\"text\"])\n",
    "    df_return = pd.DataFrame.from_dict(tree_as_dict)\n",
    "    return df_return, features_col\n",
    "\n",
    "\n",
    "def db_to_df():\n",
    "    con = sqlite3.connect(\"../app.db\")\n",
    "    df = pd.read_sql_query(\"SELECT * from report_histo\", con)\n",
    "    return df\n",
    "\n",
    "\n",
    "def process_df(df):\n",
    "    df = df.replace(\n",
    "        {\n",
    "            \"COM_CCD\": \"COM\",\n",
    "            \"COM_MMM\": \"COM\",\n",
    "            \"NM_CAP\": \"NM\",\n",
    "            \"CFTD\": \"OTHER\",\n",
    "            \"NON_CM\": \"OTHER\",\n",
    "            \"CM\": \"UNCLEAR\",\n",
    "        }\n",
    "    )\n",
    "    df = df.replace({-0.25: np.nan, 0.25: 1, 0.5: 1, 0.75: 1})\n",
    "    return df\n",
    "df = db_to_df()\n",
    "df, features_col = table_to_df(df)\n",
    "df = process_df(df)"
   ]
  },
  {
   "cell_type": "code",
   "execution_count": null,
   "metadata": {},
   "outputs": [],
   "source": [
    "with open(\"../config/ontology.json\", \"r\") as fp:\n",
    "    onto = json.load(fp)"
   ]
  },
  {
   "cell_type": "code",
   "execution_count": null,
   "metadata": {},
   "outputs": [],
   "source": [
    "# n_gene = df[\"gene_diag\"].value_counts()\n",
    "# n_phenotype = df[\"conclusion\"].value_counts()\n",
    "# index_gene = n_gene.index\n",
    "# index_phenotype = n_phenotype.index"
   ]
  },
  {
   "cell_type": "code",
   "execution_count": null,
   "metadata": {},
   "outputs": [],
   "source": [
    "for term in onto:\n",
    "    df_temp = df[df[term[\"text\"]]==1]\n",
    "    gene_datamined_temp = list(df_temp[\"gene_diag\"].value_counts().index)\n",
    "    phenotype_datamined_temp = list(df_temp[\"conclusion\"].value_counts().index)\n",
    "    if gene_datamined_temp == []:\n",
    "        term[\"data\"][\"gene_datamined\"] = \"\"\n",
    "    else:\n",
    "        term[\"data\"][\"gene_datamined\"] = \",\".join(gene_datamined_temp)\n",
    "    if phenotype_datamined_temp == []:\n",
    "        term[\"data\"][\"phenotype_datamined\"] = \"\"\n",
    "    else:\n",
    "        term[\"data\"][\"phenotype_datamined\"] = \",\".join(phenotype_datamined_temp)"
   ]
  },
  {
   "cell_type": "code",
   "execution_count": null,
   "metadata": {},
   "outputs": [],
   "source": [
    "with open(\"../config/ontology.json\", \"w\") as fp:\n",
    "    json.dump(onto, fp, indent=4)"
   ]
  }
 ],
 "metadata": {
  "interpreter": {
   "hash": "f79e6e128c38df7470d02b4edb767138d7d5597399edd1a5d115060d304f21b0"
  },
  "kernelspec": {
   "display_name": "Python 3.9.7 64-bit ('myoxia': conda)",
   "name": "python3"
  },
  "language_info": {
   "codemirror_mode": {
    "name": "ipython",
    "version": 3
   },
   "file_extension": ".py",
   "mimetype": "text/x-python",
   "name": "python",
   "nbconvert_exporter": "python",
   "pygments_lexer": "ipython3",
   "version": "3.9.7"
  },
  "orig_nbformat": 4
 },
 "nbformat": 4,
 "nbformat_minor": 2
}
